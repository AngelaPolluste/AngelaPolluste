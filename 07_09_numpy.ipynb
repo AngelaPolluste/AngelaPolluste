{
  "nbformat": 4,
  "nbformat_minor": 0,
  "metadata": {
    "colab": {
      "provenance": [],
      "authorship_tag": "ABX9TyN6qJIrdDw/F11wvxLCLGPV",
      "include_colab_link": true
    },
    "kernelspec": {
      "name": "python3",
      "display_name": "Python 3"
    },
    "language_info": {
      "name": "python"
    }
  },
  "cells": [
    {
      "cell_type": "markdown",
      "metadata": {
        "id": "view-in-github",
        "colab_type": "text"
      },
      "source": [
        "<a href=\"https://colab.research.google.com/github/AngelaPolluste/AngelaPolluste/blob/main/07_09_numpy.ipynb\" target=\"_parent\"><img src=\"https://colab.research.google.com/assets/colab-badge.svg\" alt=\"Open In Colab\"/></a>"
      ]
    },
    {
      "cell_type": "code",
      "execution_count": null,
      "metadata": {
        "id": "Y6k0xT_jBJbd"
      },
      "outputs": [],
      "source": [
        "import numpy as np"
      ]
    },
    {
      "cell_type": "code",
      "source": [
        "coin =[\"Heads\", \"Tails\"] #one dimentional array ==list"
      ],
      "metadata": {
        "id": "sVZ-PsBzD8AE"
      },
      "execution_count": null,
      "outputs": []
    },
    {
      "cell_type": "code",
      "source": [
        "coin"
      ],
      "metadata": {
        "colab": {
          "base_uri": "https://localhost:8080/"
        },
        "id": "jLdGb8TjENV8",
        "outputId": "1c0b6231-8cfa-4101-80f1-2347f3d9623a"
      },
      "execution_count": null,
      "outputs": [
        {
          "output_type": "execute_result",
          "data": {
            "text/plain": [
              "['Heads', 'Tails']"
            ]
          },
          "metadata": {},
          "execution_count": 3
        }
      ]
    },
    {
      "cell_type": "code",
      "source": [
        "number_of_throws = 1000 #size"
      ],
      "metadata": {
        "id": "n6xy2jkmEP5T"
      },
      "execution_count": null,
      "outputs": []
    },
    {
      "cell_type": "code",
      "source": [
        "tosses = np.random.choice(coin, number_of_throws)\n",
        "tosses"
      ],
      "metadata": {
        "colab": {
          "base_uri": "https://localhost:8080/"
        },
        "collapsed": true,
        "id": "in1kOU5uEWjj",
        "outputId": "300b21c9-39a0-428c-d46a-9d740bed2789"
      },
      "execution_count": null,
      "outputs": [
        {
          "output_type": "execute_result",
          "data": {
            "text/plain": [
              "array(['Heads', 'Tails', 'Heads', 'Tails', 'Heads', 'Heads', 'Tails',\n",
              "       'Tails', 'Tails', 'Heads', 'Heads', 'Tails', 'Heads', 'Heads',\n",
              "       'Tails', 'Tails', 'Tails', 'Tails', 'Heads', 'Heads', 'Heads',\n",
              "       'Tails', 'Tails', 'Tails', 'Heads', 'Tails', 'Tails', 'Tails',\n",
              "       'Heads', 'Heads', 'Heads', 'Tails', 'Heads', 'Tails', 'Tails',\n",
              "       'Heads', 'Heads', 'Heads', 'Heads', 'Heads', 'Tails', 'Tails',\n",
              "       'Heads', 'Tails', 'Tails', 'Tails', 'Heads', 'Heads', 'Tails',\n",
              "       'Heads', 'Tails', 'Heads', 'Tails', 'Tails', 'Tails', 'Tails',\n",
              "       'Heads', 'Heads', 'Tails', 'Tails', 'Heads', 'Heads', 'Heads',\n",
              "       'Tails', 'Heads', 'Tails', 'Tails', 'Heads', 'Heads', 'Tails',\n",
              "       'Heads', 'Tails', 'Tails', 'Heads', 'Tails', 'Tails', 'Heads',\n",
              "       'Tails', 'Tails', 'Heads', 'Heads', 'Tails', 'Heads', 'Tails',\n",
              "       'Tails', 'Tails', 'Heads', 'Tails', 'Heads', 'Tails', 'Tails',\n",
              "       'Tails', 'Tails', 'Tails', 'Tails', 'Tails', 'Heads', 'Tails',\n",
              "       'Tails', 'Tails', 'Heads', 'Heads', 'Tails', 'Heads', 'Heads',\n",
              "       'Heads', 'Heads', 'Heads', 'Tails', 'Tails', 'Tails', 'Heads',\n",
              "       'Heads', 'Heads', 'Tails', 'Tails', 'Heads', 'Tails', 'Heads',\n",
              "       'Tails', 'Tails', 'Tails', 'Tails', 'Tails', 'Heads', 'Heads',\n",
              "       'Heads', 'Tails', 'Tails', 'Tails', 'Heads', 'Tails', 'Tails',\n",
              "       'Tails', 'Tails', 'Heads', 'Tails', 'Tails', 'Heads', 'Heads',\n",
              "       'Tails', 'Heads', 'Heads', 'Heads', 'Heads', 'Heads', 'Tails',\n",
              "       'Tails', 'Heads', 'Heads', 'Heads', 'Heads', 'Tails', 'Tails',\n",
              "       'Heads', 'Heads', 'Heads', 'Tails', 'Tails', 'Heads', 'Tails',\n",
              "       'Heads', 'Heads', 'Tails', 'Heads', 'Heads', 'Heads', 'Tails',\n",
              "       'Heads', 'Tails', 'Heads', 'Heads', 'Heads', 'Tails', 'Tails',\n",
              "       'Tails', 'Heads', 'Heads', 'Tails', 'Tails', 'Heads', 'Heads',\n",
              "       'Heads', 'Heads', 'Heads', 'Heads', 'Tails', 'Tails', 'Tails',\n",
              "       'Heads', 'Tails', 'Heads', 'Heads', 'Heads', 'Heads', 'Heads',\n",
              "       'Tails', 'Tails', 'Heads', 'Heads', 'Tails', 'Heads', 'Tails',\n",
              "       'Heads', 'Heads', 'Heads', 'Heads', 'Tails', 'Heads', 'Tails',\n",
              "       'Heads', 'Heads', 'Tails', 'Heads', 'Heads', 'Heads', 'Heads',\n",
              "       'Heads', 'Heads', 'Heads', 'Tails', 'Tails', 'Tails', 'Heads',\n",
              "       'Tails', 'Tails', 'Tails', 'Tails', 'Tails', 'Tails', 'Heads',\n",
              "       'Heads', 'Tails', 'Tails', 'Tails', 'Tails', 'Heads', 'Heads',\n",
              "       'Tails', 'Heads', 'Tails', 'Tails', 'Tails', 'Tails', 'Tails',\n",
              "       'Tails', 'Heads', 'Heads', 'Tails', 'Tails', 'Heads', 'Tails',\n",
              "       'Tails', 'Tails', 'Tails', 'Tails', 'Heads', 'Tails', 'Tails',\n",
              "       'Heads', 'Tails', 'Heads', 'Heads', 'Heads', 'Tails', 'Heads',\n",
              "       'Tails', 'Heads', 'Heads', 'Heads', 'Tails', 'Heads', 'Heads',\n",
              "       'Heads', 'Tails', 'Tails', 'Tails', 'Heads', 'Heads', 'Heads',\n",
              "       'Tails', 'Tails', 'Tails', 'Heads', 'Tails', 'Tails', 'Heads',\n",
              "       'Tails', 'Tails', 'Tails', 'Tails', 'Heads', 'Heads', 'Tails',\n",
              "       'Tails', 'Tails', 'Tails', 'Tails', 'Tails', 'Heads', 'Heads',\n",
              "       'Tails', 'Tails', 'Heads', 'Tails', 'Heads', 'Heads', 'Tails',\n",
              "       'Tails', 'Tails', 'Tails', 'Tails', 'Heads', 'Tails', 'Tails',\n",
              "       'Heads', 'Heads', 'Tails', 'Heads', 'Tails', 'Tails', 'Tails',\n",
              "       'Tails', 'Heads', 'Heads', 'Tails', 'Tails', 'Heads', 'Tails',\n",
              "       'Tails', 'Tails', 'Heads', 'Heads', 'Heads', 'Heads', 'Heads',\n",
              "       'Tails', 'Heads', 'Tails', 'Tails', 'Tails', 'Heads', 'Tails',\n",
              "       'Heads', 'Tails', 'Heads', 'Tails', 'Heads', 'Heads', 'Tails',\n",
              "       'Heads', 'Heads', 'Tails', 'Heads', 'Tails', 'Heads', 'Heads',\n",
              "       'Heads', 'Heads', 'Heads', 'Tails', 'Heads', 'Heads', 'Tails',\n",
              "       'Tails', 'Tails', 'Tails', 'Heads', 'Tails', 'Tails', 'Tails',\n",
              "       'Heads', 'Heads', 'Heads', 'Heads', 'Heads', 'Tails', 'Tails',\n",
              "       'Tails', 'Heads', 'Heads', 'Tails', 'Tails', 'Tails', 'Heads',\n",
              "       'Heads', 'Tails', 'Tails', 'Heads', 'Tails', 'Tails', 'Tails',\n",
              "       'Tails', 'Tails', 'Heads', 'Tails', 'Tails', 'Tails', 'Tails',\n",
              "       'Tails', 'Tails', 'Heads', 'Tails', 'Heads', 'Heads', 'Heads',\n",
              "       'Heads', 'Heads', 'Tails', 'Heads', 'Tails', 'Tails', 'Heads',\n",
              "       'Tails', 'Tails', 'Heads', 'Heads', 'Tails', 'Heads', 'Tails',\n",
              "       'Heads', 'Tails', 'Tails', 'Heads', 'Heads', 'Tails', 'Tails',\n",
              "       'Heads', 'Heads', 'Tails', 'Heads', 'Tails', 'Heads', 'Heads',\n",
              "       'Heads', 'Heads', 'Heads', 'Heads', 'Tails', 'Tails', 'Heads',\n",
              "       'Tails', 'Tails', 'Heads', 'Tails', 'Tails', 'Heads', 'Heads',\n",
              "       'Heads', 'Tails', 'Heads', 'Tails', 'Tails', 'Heads', 'Heads',\n",
              "       'Tails', 'Heads', 'Tails', 'Tails', 'Heads', 'Tails', 'Tails',\n",
              "       'Heads', 'Heads', 'Heads', 'Tails', 'Tails', 'Tails', 'Heads',\n",
              "       'Tails', 'Heads', 'Tails', 'Tails', 'Tails', 'Tails', 'Tails',\n",
              "       'Tails', 'Heads', 'Heads', 'Heads', 'Heads', 'Tails', 'Tails',\n",
              "       'Tails', 'Heads', 'Tails', 'Heads', 'Tails', 'Tails', 'Heads',\n",
              "       'Tails', 'Tails', 'Heads', 'Tails', 'Heads', 'Heads', 'Tails',\n",
              "       'Tails', 'Tails', 'Tails', 'Tails', 'Heads', 'Heads', 'Tails',\n",
              "       'Heads', 'Heads', 'Tails', 'Heads', 'Heads', 'Tails', 'Tails',\n",
              "       'Tails', 'Tails', 'Tails', 'Heads', 'Tails', 'Heads', 'Tails',\n",
              "       'Tails', 'Tails', 'Heads', 'Tails', 'Heads', 'Tails', 'Heads',\n",
              "       'Tails', 'Heads', 'Tails', 'Heads', 'Heads', 'Tails', 'Heads',\n",
              "       'Tails', 'Tails', 'Tails', 'Heads', 'Heads', 'Heads', 'Heads',\n",
              "       'Heads', 'Heads', 'Heads', 'Tails', 'Tails', 'Heads', 'Tails',\n",
              "       'Tails', 'Heads', 'Tails', 'Heads', 'Heads', 'Heads', 'Tails',\n",
              "       'Heads', 'Tails', 'Heads', 'Tails', 'Heads', 'Tails', 'Tails',\n",
              "       'Tails', 'Tails', 'Tails', 'Heads', 'Heads', 'Heads', 'Tails',\n",
              "       'Heads', 'Tails', 'Heads', 'Tails', 'Heads', 'Tails', 'Tails',\n",
              "       'Tails', 'Heads', 'Tails', 'Heads', 'Heads', 'Heads', 'Tails',\n",
              "       'Heads', 'Tails', 'Tails', 'Heads', 'Heads', 'Tails', 'Heads',\n",
              "       'Tails', 'Tails', 'Tails', 'Tails', 'Tails', 'Heads', 'Heads',\n",
              "       'Heads', 'Tails', 'Heads', 'Heads', 'Tails', 'Tails', 'Tails',\n",
              "       'Tails', 'Tails', 'Tails', 'Heads', 'Heads', 'Tails', 'Tails',\n",
              "       'Heads', 'Tails', 'Tails', 'Heads', 'Tails', 'Tails', 'Heads',\n",
              "       'Heads', 'Tails', 'Tails', 'Heads', 'Tails', 'Heads', 'Tails',\n",
              "       'Tails', 'Heads', 'Tails', 'Tails', 'Tails', 'Tails', 'Heads',\n",
              "       'Heads', 'Heads', 'Tails', 'Heads', 'Tails', 'Tails', 'Tails',\n",
              "       'Heads', 'Heads', 'Tails', 'Tails', 'Tails', 'Heads', 'Heads',\n",
              "       'Tails', 'Heads', 'Tails', 'Tails', 'Heads', 'Heads', 'Heads',\n",
              "       'Tails', 'Tails', 'Heads', 'Heads', 'Heads', 'Heads', 'Heads',\n",
              "       'Heads', 'Heads', 'Heads', 'Heads', 'Heads', 'Tails', 'Tails',\n",
              "       'Heads', 'Heads', 'Heads', 'Heads', 'Heads', 'Tails', 'Tails',\n",
              "       'Tails', 'Heads', 'Tails', 'Heads', 'Tails', 'Tails', 'Tails',\n",
              "       'Tails', 'Heads', 'Heads', 'Tails', 'Heads', 'Heads', 'Tails',\n",
              "       'Heads', 'Heads', 'Tails', 'Heads', 'Tails', 'Tails', 'Heads',\n",
              "       'Heads', 'Heads', 'Heads', 'Tails', 'Heads', 'Tails', 'Tails',\n",
              "       'Tails', 'Tails', 'Tails', 'Tails', 'Heads', 'Heads', 'Tails',\n",
              "       'Heads', 'Heads', 'Tails', 'Heads', 'Heads', 'Tails', 'Tails',\n",
              "       'Tails', 'Heads', 'Heads', 'Heads', 'Heads', 'Tails', 'Heads',\n",
              "       'Heads', 'Tails', 'Heads', 'Tails', 'Tails', 'Heads', 'Heads',\n",
              "       'Heads', 'Tails', 'Tails', 'Tails', 'Heads', 'Heads', 'Tails',\n",
              "       'Heads', 'Tails', 'Heads', 'Heads', 'Tails', 'Heads', 'Tails',\n",
              "       'Heads', 'Tails', 'Heads', 'Heads', 'Tails', 'Heads', 'Tails',\n",
              "       'Heads', 'Tails', 'Tails', 'Tails', 'Tails', 'Tails', 'Tails',\n",
              "       'Heads', 'Tails', 'Tails', 'Tails', 'Heads', 'Tails', 'Tails',\n",
              "       'Tails', 'Heads', 'Heads', 'Heads', 'Heads', 'Heads', 'Heads',\n",
              "       'Tails', 'Heads', 'Heads', 'Tails', 'Tails', 'Tails', 'Heads',\n",
              "       'Heads', 'Heads', 'Heads', 'Heads', 'Heads', 'Heads', 'Tails',\n",
              "       'Tails', 'Heads', 'Heads', 'Heads', 'Tails', 'Tails', 'Tails',\n",
              "       'Heads', 'Tails', 'Tails', 'Heads', 'Heads', 'Heads', 'Tails',\n",
              "       'Tails', 'Heads', 'Tails', 'Tails', 'Tails', 'Heads', 'Heads',\n",
              "       'Heads', 'Tails', 'Tails', 'Tails', 'Heads', 'Tails', 'Tails',\n",
              "       'Heads', 'Tails', 'Heads', 'Tails', 'Heads', 'Tails', 'Heads',\n",
              "       'Heads', 'Tails', 'Tails', 'Heads', 'Tails', 'Tails', 'Tails',\n",
              "       'Heads', 'Heads', 'Tails', 'Tails', 'Heads', 'Tails', 'Heads',\n",
              "       'Heads', 'Heads', 'Heads', 'Heads', 'Heads', 'Heads', 'Tails',\n",
              "       'Tails', 'Heads', 'Heads', 'Heads', 'Tails', 'Tails', 'Heads',\n",
              "       'Heads', 'Heads', 'Heads', 'Heads', 'Tails', 'Tails', 'Heads',\n",
              "       'Tails', 'Heads', 'Tails', 'Tails', 'Heads', 'Heads', 'Tails',\n",
              "       'Heads', 'Tails', 'Heads', 'Tails', 'Tails', 'Tails', 'Tails',\n",
              "       'Heads', 'Tails', 'Tails', 'Heads', 'Tails', 'Tails', 'Tails',\n",
              "       'Tails', 'Heads', 'Tails', 'Tails', 'Heads', 'Tails', 'Heads',\n",
              "       'Heads', 'Heads', 'Heads', 'Tails', 'Heads', 'Tails', 'Tails',\n",
              "       'Tails', 'Heads', 'Tails', 'Heads', 'Heads', 'Heads', 'Heads',\n",
              "       'Tails', 'Heads', 'Tails', 'Tails', 'Heads', 'Heads', 'Heads',\n",
              "       'Heads', 'Heads', 'Heads', 'Tails', 'Tails', 'Heads', 'Tails',\n",
              "       'Tails', 'Tails', 'Tails', 'Heads', 'Heads', 'Heads', 'Heads',\n",
              "       'Tails', 'Heads', 'Tails', 'Tails', 'Heads', 'Heads', 'Tails',\n",
              "       'Heads', 'Heads', 'Tails', 'Heads', 'Tails', 'Tails', 'Tails',\n",
              "       'Heads', 'Tails', 'Tails', 'Tails', 'Tails', 'Tails', 'Tails',\n",
              "       'Heads', 'Heads', 'Heads', 'Tails', 'Heads', 'Heads', 'Heads',\n",
              "       'Tails', 'Heads', 'Tails', 'Tails', 'Tails', 'Heads', 'Heads',\n",
              "       'Heads', 'Heads', 'Heads', 'Heads', 'Heads', 'Tails', 'Heads',\n",
              "       'Tails', 'Tails', 'Tails', 'Heads', 'Heads', 'Heads', 'Heads',\n",
              "       'Tails', 'Heads', 'Tails', 'Tails', 'Tails', 'Tails', 'Heads',\n",
              "       'Heads', 'Tails', 'Heads', 'Tails', 'Heads', 'Heads', 'Tails',\n",
              "       'Tails', 'Tails', 'Heads', 'Heads', 'Tails', 'Tails', 'Tails',\n",
              "       'Tails', 'Tails', 'Tails', 'Heads', 'Heads', 'Heads', 'Tails',\n",
              "       'Heads', 'Tails', 'Tails', 'Tails', 'Heads', 'Heads'], dtype='<U5')"
            ]
          },
          "metadata": {},
          "execution_count": 5
        }
      ]
    },
    {
      "cell_type": "code",
      "source": [
        "print(f\"Heads: {np.count_nonzero(tosses == 'Heads')}\")\n",
        "print(f\"Tails: {np.count_nonzero(tosses == 'Tails')}\")"
      ],
      "metadata": {
        "colab": {
          "base_uri": "https://localhost:8080/"
        },
        "id": "6s97EE3wGe-b",
        "outputId": "ed10da50-b2d9-4f38-82d7-2c75d5ec0223"
      },
      "execution_count": null,
      "outputs": [
        {
          "output_type": "stream",
          "name": "stdout",
          "text": [
            "Heads: 487\n",
            "Tails: 513\n"
          ]
        }
      ]
    },
    {
      "cell_type": "code",
      "source": [
        "#Number of Heads\n",
        "nr_heads = np.sum(tosses == \"Heads\")"
      ],
      "metadata": {
        "id": "jxWpyzfSJLFa"
      },
      "execution_count": null,
      "outputs": []
    },
    {
      "cell_type": "code",
      "source": [
        "#Number of Tails\n",
        "nr_tails = np.sum(tosses == \"Tails\")"
      ],
      "metadata": {
        "id": "gqBfr1IjJSe6"
      },
      "execution_count": null,
      "outputs": []
    },
    {
      "cell_type": "code",
      "source": [
        "# Probabilities\n",
        "prob_heads = nr_heads / number_of_throws\n",
        "prob_tails = nr_tails / number_of_throws"
      ],
      "metadata": {
        "id": "rNa0qzQkJcb5"
      },
      "execution_count": null,
      "outputs": []
    },
    {
      "cell_type": "code",
      "source": [
        "print(f'Probability of Heads: {prob_heads}')\n",
        "print(f'Probability of Tails: {prob_tails}')"
      ],
      "metadata": {
        "colab": {
          "base_uri": "https://localhost:8080/"
        },
        "id": "tT4fsHkfJ8ZC",
        "outputId": "b81a588c-137a-46a2-ecdd-6796b3a6188f"
      },
      "execution_count": null,
      "outputs": [
        {
          "output_type": "stream",
          "name": "stdout",
          "text": [
            "Probability of Heads: 0.487\n",
            "Probability of Tails: 0.513\n"
          ]
        }
      ]
    },
    {
      "cell_type": "markdown",
      "source": [
        "# NUMPY"
      ],
      "metadata": {
        "id": "2vdCuMg5KatK"
      }
    },
    {
      "cell_type": "code",
      "source": [
        "my_list = [1,2,3]\n",
        "my_list"
      ],
      "metadata": {
        "colab": {
          "base_uri": "https://localhost:8080/"
        },
        "id": "JIZdfAD_KW1J",
        "outputId": "6a32361c-fbf9-4559-82e7-100fc1c0fcac"
      },
      "execution_count": null,
      "outputs": [
        {
          "output_type": "execute_result",
          "data": {
            "text/plain": [
              "[1, 2, 3]"
            ]
          },
          "metadata": {},
          "execution_count": 18
        }
      ]
    },
    {
      "cell_type": "code",
      "source": [
        "import sys"
      ],
      "metadata": {
        "id": "FJuh9owyK8SR"
      },
      "execution_count": null,
      "outputs": []
    },
    {
      "cell_type": "code",
      "source": [
        "size_of_py_list = sys.getsizeof(my_list)\n",
        "print (\"Size of the python list is:\", size_of_py_list) #bytes"
      ],
      "metadata": {
        "colab": {
          "base_uri": "https://localhost:8080/"
        },
        "id": "NjKCPakAK_mB",
        "outputId": "fb2289ca-7764-4691-c74c-b7511230024c"
      },
      "execution_count": null,
      "outputs": [
        {
          "output_type": "stream",
          "name": "stdout",
          "text": [
            "Size of the python list is: 88\n"
          ]
        }
      ]
    },
    {
      "cell_type": "code",
      "source": [
        "my_array = np.array(my_list)\n",
        "my_array"
      ],
      "metadata": {
        "colab": {
          "base_uri": "https://localhost:8080/"
        },
        "id": "nveao5hMLYLx",
        "outputId": "de0e7a94-8c4c-4d69-af26-4c80defd9f03"
      },
      "execution_count": null,
      "outputs": [
        {
          "output_type": "execute_result",
          "data": {
            "text/plain": [
              "array([1, 2, 3])"
            ]
          },
          "metadata": {},
          "execution_count": 22
        }
      ]
    },
    {
      "cell_type": "code",
      "source": [
        "size_of_array = my_array.nbytes\n",
        "print (\"Size of the numpy array is:\", size_of_array) #bytes"
      ],
      "metadata": {
        "colab": {
          "base_uri": "https://localhost:8080/"
        },
        "id": "hFNCAiKNL2ix",
        "outputId": "29d42c33-aa1b-415a-de4e-d0595fae8405"
      },
      "execution_count": null,
      "outputs": [
        {
          "output_type": "stream",
          "name": "stdout",
          "text": [
            "Size of the numpy array is: 24\n"
          ]
        }
      ]
    },
    {
      "cell_type": "code",
      "source": [
        "test_list = [1,2,3,'Autumn', 0.3, True]\n",
        "test_list"
      ],
      "metadata": {
        "colab": {
          "base_uri": "https://localhost:8080/"
        },
        "id": "GbX7XiZUNxMR",
        "outputId": "e92f8c08-bd5a-462a-b87e-1ff84bb6b835"
      },
      "execution_count": null,
      "outputs": [
        {
          "output_type": "execute_result",
          "data": {
            "text/plain": [
              "[1, 2, 3, 'Autumn', 0.3, True]"
            ]
          },
          "metadata": {},
          "execution_count": 24
        }
      ]
    },
    {
      "cell_type": "code",
      "source": [
        "test_list_array = np.array(test_list)\n",
        "test_list_array"
      ],
      "metadata": {
        "colab": {
          "base_uri": "https://localhost:8080/"
        },
        "id": "e444fAoUN7DI",
        "outputId": "a550420a-fb42-4a21-f36c-a895ec195818"
      },
      "execution_count": null,
      "outputs": [
        {
          "output_type": "execute_result",
          "data": {
            "text/plain": [
              "array(['1', '2', '3', 'Autumn', '0.3', 'True'], dtype='<U32')"
            ]
          },
          "metadata": {},
          "execution_count": 25
        }
      ]
    },
    {
      "cell_type": "markdown",
      "source": [
        "# Built-in methods in Numpy"
      ],
      "metadata": {
        "id": "D3-UuUf1Opev"
      }
    },
    {
      "cell_type": "code",
      "source": [
        "# arrange\n",
        "\n",
        "np.arange(10)\n",
        "np.arange(5,10)\n",
        "np.arange(10,20,2) #step is 2\n",
        "np.arange(10,20,3)"
      ],
      "metadata": {
        "colab": {
          "base_uri": "https://localhost:8080/"
        },
        "id": "OLCn9khmOltY",
        "outputId": "ff2bfafe-4f88-4407-fef1-057f443e54d4"
      },
      "execution_count": null,
      "outputs": [
        {
          "output_type": "execute_result",
          "data": {
            "text/plain": [
              "array([10, 13, 16, 19])"
            ]
          },
          "metadata": {},
          "execution_count": 29
        }
      ]
    },
    {
      "cell_type": "code",
      "source": [
        "# zeros\n",
        "\n",
        "np.zeros(3)\n",
        "\n",
        "np.zeros((5,5)) #5x5 matrix\n"
      ],
      "metadata": {
        "colab": {
          "base_uri": "https://localhost:8080/"
        },
        "id": "5Rjpzd0QQuKw",
        "outputId": "28060942-a1e1-4b20-ee00-7f936ff4441b"
      },
      "execution_count": null,
      "outputs": [
        {
          "output_type": "execute_result",
          "data": {
            "text/plain": [
              "array([[0., 0., 0., 0., 0.],\n",
              "       [0., 0., 0., 0., 0.],\n",
              "       [0., 0., 0., 0., 0.],\n",
              "       [0., 0., 0., 0., 0.],\n",
              "       [0., 0., 0., 0., 0.]])"
            ]
          },
          "metadata": {},
          "execution_count": 31
        }
      ]
    },
    {
      "cell_type": "code",
      "source": [
        "# create matrix ones\n",
        "\n",
        "np.ones((10,5), dtype=int) #modified the format from float to int"
      ],
      "metadata": {
        "colab": {
          "base_uri": "https://localhost:8080/"
        },
        "id": "1Q6LoSX6Rrpi",
        "outputId": "76ff468b-0815-47c3-cad7-3d49b6be79e6"
      },
      "execution_count": null,
      "outputs": [
        {
          "output_type": "execute_result",
          "data": {
            "text/plain": [
              "array([[1, 1, 1, 1, 1],\n",
              "       [1, 1, 1, 1, 1],\n",
              "       [1, 1, 1, 1, 1],\n",
              "       [1, 1, 1, 1, 1],\n",
              "       [1, 1, 1, 1, 1],\n",
              "       [1, 1, 1, 1, 1],\n",
              "       [1, 1, 1, 1, 1],\n",
              "       [1, 1, 1, 1, 1],\n",
              "       [1, 1, 1, 1, 1],\n",
              "       [1, 1, 1, 1, 1]])"
            ]
          },
          "metadata": {},
          "execution_count": 34
        }
      ]
    },
    {
      "cell_type": "code",
      "source": [
        "#linspace\n",
        "\n",
        "np.linspace(100, 200, 33) #numpy.linspace search google, 33 is number of items in the array"
      ],
      "metadata": {
        "colab": {
          "base_uri": "https://localhost:8080/"
        },
        "id": "kb79EDAWYErn",
        "outputId": "2acf4c74-bc74-4249-9260-6abf62e50100"
      },
      "execution_count": null,
      "outputs": [
        {
          "output_type": "execute_result",
          "data": {
            "text/plain": [
              "array([100.   , 103.125, 106.25 , 109.375, 112.5  , 115.625, 118.75 ,\n",
              "       121.875, 125.   , 128.125, 131.25 , 134.375, 137.5  , 140.625,\n",
              "       143.75 , 146.875, 150.   , 153.125, 156.25 , 159.375, 162.5  ,\n",
              "       165.625, 168.75 , 171.875, 175.   , 178.125, 181.25 , 184.375,\n",
              "       187.5  , 190.625, 193.75 , 196.875, 200.   ])"
            ]
          },
          "metadata": {},
          "execution_count": 35
        }
      ]
    },
    {
      "cell_type": "code",
      "source": [
        "# eye\n",
        "np.eye(4)"
      ],
      "metadata": {
        "colab": {
          "base_uri": "https://localhost:8080/"
        },
        "id": "QU0EGspuYxXG",
        "outputId": "f6ed1abb-3aaf-4f47-ad82-b54fa5de690a"
      },
      "execution_count": null,
      "outputs": [
        {
          "output_type": "execute_result",
          "data": {
            "text/plain": [
              "array([[1., 0., 0., 0.],\n",
              "       [0., 1., 0., 0.],\n",
              "       [0., 0., 1., 0.],\n",
              "       [0., 0., 0., 1.]])"
            ]
          },
          "metadata": {},
          "execution_count": 36
        }
      ]
    },
    {
      "cell_type": "code",
      "source": [
        "coordinates = np.random.rand(2) #random numbers between 0 and 1\n",
        "\n",
        "x = coordinates[0] #first value of the array\n",
        "y = coordinates[1] #second value of the array\n",
        "\n",
        "import matplotlib.pyplot as plt\n",
        "\n",
        "plt.scatter(x,y, s=100, color ='blue')\n",
        "plt.title('Randomly selected coordinates')\n",
        "plt.xlabel('X')\n",
        "plt.ylabel('Y')\n",
        "plt.grid(True)\n",
        "plt.show()\n"
      ],
      "metadata": {
        "colab": {
          "base_uri": "https://localhost:8080/",
          "height": 472
        },
        "id": "ojyeCceFZfZm",
        "outputId": "9f9fdc15-77da-417d-9005-1c363e4ba466"
      },
      "execution_count": null,
      "outputs": [
        {
          "output_type": "display_data",
          "data": {
            "text/plain": [
              "<Figure size 640x480 with 1 Axes>"
            ],
            "image/png": "[encoded data removed]"
          },
          "metadata": {}
        }
      ]
    },
    {
      "cell_type": "markdown",
      "source": [
        "### UNIFORM DISTRIBUTION"
      ],
      "metadata": {
        "id": "bWarGdWGc36d"
      }
    },
    {
      "cell_type": "code",
      "source": [
        "coordinates2 = np.random.rand(100000, 2)\n",
        "coordinates2\n",
        "\n",
        "x = coordinates2[:,0] # all the rows from the first colum\n",
        "y = coordinates2[:,1] # all the rows from the first column\n",
        "\n",
        "plt.scatter(x,y, s=100, color ='blue')\n",
        "plt.title('100000 Randomly selected coordinates')\n",
        "plt.xlabel('X')\n",
        "plt.ylabel('Y')\n",
        "plt.grid(True)\n",
        "\n",
        "plt.scatter(x,y, s=100, color ='blue')"
      ],
      "metadata": {
        "colab": {
          "base_uri": "https://localhost:8080/",
          "height": 490
        },
        "id": "AqJ4foY5bB3O",
        "outputId": "84573ef4-f1d3-4cf4-c8a1-f54b2b74a24a"
      },
      "execution_count": null,
      "outputs": [
        {
          "output_type": "execute_result",
          "data": {
            "text/plain": [
              "<matplotlib.collections.PathCollection at 0x7f65c1057460>"
            ]
          },
          "metadata": {},
          "execution_count": 45
        },
        {
          "output_type": "display_data",
          "data": {
            "text/plain": [
              "<Figure size 640x480 with 1 Axes>"
            ],
            "image/png": "[encoded data removed]"
          },
          "metadata": {}
        }
      ]
    },
    {
      "cell_type": "markdown",
      "source": [
        "### NORMAL DISTRIBUTION"
      ],
      "metadata": {
        "id": "VDJXdWknc8kG"
      }
    },
    {
      "cell_type": "code",
      "source": [
        "coordinates3 = np.random.randn(100000, 2)\n",
        "coordinates3\n",
        "\n",
        "x = coordinates3[:,0] # all the rows from the first colum\n",
        "y = coordinates3[:,1] # all the rows from the first column\n",
        "\n",
        "plt.scatter(x,y, s=100, cmap ='rainbow', alpha = 0.7)\n",
        "plt.title('100000 Randomly selected coordinates - normal distribution')\n",
        "plt.xlabel('X')\n",
        "plt.ylabel('Y')\n",
        "plt.grid(True)\n",
        "\n",
        "plt.scatter(x,y, s=100, color ='blue')"
      ],
      "metadata": {
        "colab": {
          "base_uri": "https://localhost:8080/",
          "height": 527
        },
        "id": "KWTd2e7EdAiN",
        "outputId": "22951922-7cdd-4481-9d4d-993c9d10f2f9"
      },
      "execution_count": null,
      "outputs": [
        {
          "output_type": "stream",
          "name": "stderr",
          "text": [
            "<ipython-input-50-f884d2be4fdf>:7: UserWarning: No data for colormapping provided via 'c'. Parameters 'cmap' will be ignored\n",
            "  plt.scatter(x,y, s=100, cmap ='rainbow', alpha = 0.7)\n"
          ]
        },
        {
          "output_type": "execute_result",
          "data": {
            "text/plain": [
              "<matplotlib.collections.PathCollection at 0x7f65c08b78b0>"
            ]
          },
          "metadata": {},
          "execution_count": 50
        },
        {
          "output_type": "display_data",
          "data": {
            "text/plain": [
              "<Figure size 640x480 with 1 Axes>"
            ],
            "image/png": "[encoded data removed]"
          },
          "metadata": {}
        }
      ]
    },
    {
      "cell_type": "code",
      "source": [
        "np.random.randint(1,100) # start -1(inclusive), end -100(exclusive)"
      ],
      "metadata": {
        "colab": {
          "base_uri": "https://localhost:8080/"
        },
        "id": "zC3r9tkBei0c",
        "outputId": "73672a98-6438-4498-82dd-1362f7d5afad"
      },
      "execution_count": null,
      "outputs": [
        {
          "output_type": "execute_result",
          "data": {
            "text/plain": [
              "16"
            ]
          },
          "metadata": {},
          "execution_count": 47
        }
      ]
    },
    {
      "cell_type": "code",
      "source": [
        "my_values = np.random.randint(1,100,10)\n",
        "my_values"
      ],
      "metadata": {
        "colab": {
          "base_uri": "https://localhost:8080/"
        },
        "id": "Iepd2Hvte50F",
        "outputId": "e1b1a000-ef8f-461c-fbd3-6ed68edf9e9d"
      },
      "execution_count": null,
      "outputs": [
        {
          "output_type": "execute_result",
          "data": {
            "text/plain": [
              "array([95, 66, 89, 70,  2, 68, 60, 58, 18, 17])"
            ]
          },
          "metadata": {},
          "execution_count": 51
        }
      ]
    },
    {
      "cell_type": "code",
      "source": [
        "#MATH\n",
        "my_values.max()\n",
        "my_values.min()\n",
        "\n",
        "my_values.std()\n"
      ],
      "metadata": {
        "colab": {
          "base_uri": "https://localhost:8080/"
        },
        "id": "470eFDvLfT3_",
        "outputId": "39a8a7e0-8c8d-48bf-9f1a-0138cff040fa"
      },
      "execution_count": null,
      "outputs": [
        {
          "output_type": "execute_result",
          "data": {
            "text/plain": [
              "29.869884499274512"
            ]
          },
          "metadata": {},
          "execution_count": 53
        }
      ]
    },
    {
      "cell_type": "code",
      "source": [
        "#Finding index of different locations\n",
        "my_values.argmax()\n",
        "my_values.argmin()"
      ],
      "metadata": {
        "colab": {
          "base_uri": "https://localhost:8080/"
        },
        "id": "Mr1G94ZAgRQu",
        "outputId": "877438f2-502a-4b2c-ae5c-a660246d9fd8"
      },
      "execution_count": null,
      "outputs": [
        {
          "output_type": "execute_result",
          "data": {
            "text/plain": [
              "4"
            ]
          },
          "metadata": {},
          "execution_count": 54
        }
      ]
    }
  ]
}